{
 "cells": [
  {
   "cell_type": "markdown",
   "id": "3e1ef360",
   "metadata": {},
   "source": [
    "***Importing Libraries***"
   ]
  },
  {
   "cell_type": "code",
   "execution_count": 4,
   "id": "f4054835",
   "metadata": {},
   "outputs": [],
   "source": [
    "import numpy as np "
   ]
  },
  {
   "cell_type": "code",
   "execution_count": 5,
   "id": "efb7a513",
   "metadata": {},
   "outputs": [],
   "source": [
    "from numpy import genfromtxt "
   ]
  },
  {
   "cell_type": "markdown",
   "id": "73c20fdb",
   "metadata": {},
   "source": [
    "***Importing Data***"
   ]
  },
  {
   "cell_type": "code",
   "execution_count": 6,
   "id": "b3bb5d11",
   "metadata": {},
   "outputs": [],
   "source": [
    "data = genfromtxt(r'C:\\Users\\user\\Desktop\\bank_note_data.txt', delimiter=',')"
   ]
  },
  {
   "cell_type": "code",
   "execution_count": 7,
   "id": "21f34c7b",
   "metadata": {},
   "outputs": [
    {
     "data": {
      "text/plain": [
       "array([[  3.6216 ,   8.6661 ,  -2.8073 ,  -0.44699,   0.     ],\n",
       "       [  4.5459 ,   8.1674 ,  -2.4586 ,  -1.4621 ,   0.     ],\n",
       "       [  3.866  ,  -2.6383 ,   1.9242 ,   0.10645,   0.     ],\n",
       "       ...,\n",
       "       [ -3.7503 , -13.4586 ,  17.5932 ,  -2.7771 ,   1.     ],\n",
       "       [ -3.5637 ,  -8.3827 ,  12.393  ,  -1.2823 ,   1.     ],\n",
       "       [ -2.5419 ,  -0.65804,   2.6842 ,   1.1952 ,   1.     ]])"
      ]
     },
     "execution_count": 7,
     "metadata": {},
     "output_type": "execute_result"
    }
   ],
   "source": [
    "data"
   ]
  },
  {
   "cell_type": "markdown",
   "id": "59a09a1b",
   "metadata": {},
   "source": [
    "***Labels and Features***"
   ]
  },
  {
   "cell_type": "code",
   "execution_count": 8,
   "id": "acdc414e",
   "metadata": {},
   "outputs": [],
   "source": [
    "labels = data[:,4]"
   ]
  },
  {
   "cell_type": "code",
   "execution_count": 9,
   "id": "dda37f96",
   "metadata": {},
   "outputs": [
    {
     "data": {
      "text/plain": [
       "array([0., 0., 0., ..., 1., 1., 1.])"
      ]
     },
     "execution_count": 9,
     "metadata": {},
     "output_type": "execute_result"
    }
   ],
   "source": [
    "labels"
   ]
  },
  {
   "cell_type": "code",
   "execution_count": 10,
   "id": "b02f4896",
   "metadata": {},
   "outputs": [
    {
     "data": {
      "text/plain": [
       "array([[  3.6216 ,   8.6661 ,  -2.8073 ,  -0.44699],\n",
       "       [  4.5459 ,   8.1674 ,  -2.4586 ,  -1.4621 ],\n",
       "       [  3.866  ,  -2.6383 ,   1.9242 ,   0.10645],\n",
       "       ...,\n",
       "       [ -3.7503 , -13.4586 ,  17.5932 ,  -2.7771 ],\n",
       "       [ -3.5637 ,  -8.3827 ,  12.393  ,  -1.2823 ],\n",
       "       [ -2.5419 ,  -0.65804,   2.6842 ,   1.1952 ]])"
      ]
     },
     "execution_count": 10,
     "metadata": {},
     "output_type": "execute_result"
    }
   ],
   "source": [
    "features = data [:,0:4]\n",
    "features"
   ]
  },
  {
   "cell_type": "code",
   "execution_count": 11,
   "id": "b24d1085",
   "metadata": {},
   "outputs": [],
   "source": [
    "x = features \n",
    "y = labels"
   ]
  },
  {
   "cell_type": "markdown",
   "id": "ee70279a",
   "metadata": {},
   "source": [
    "***Train Test Split***"
   ]
  },
  {
   "cell_type": "code",
   "execution_count": 12,
   "id": "e527022e",
   "metadata": {},
   "outputs": [],
   "source": [
    "from sklearn.model_selection import train_test_split "
   ]
  },
  {
   "cell_type": "code",
   "execution_count": 13,
   "id": "9c070852",
   "metadata": {},
   "outputs": [],
   "source": [
    "x_train, x_test, y_train, y_test = train_test_split(x,y,test_size=0.20, random_state=42)"
   ]
  },
  {
   "cell_type": "code",
   "execution_count": 14,
   "id": "5c6b8b1f",
   "metadata": {},
   "outputs": [
    {
     "data": {
      "text/plain": [
       "array([[-1.3885  , 12.5026  ,  0.69118 , -7.5487  ],\n",
       "       [ 2.7744  ,  6.8576  , -1.0671  ,  0.075416],\n",
       "       [-4.2887  , -7.8633  , 11.8387  , -1.8978  ],\n",
       "       ...,\n",
       "       [-7.0364  ,  9.2931  ,  0.16594 , -4.5396  ],\n",
       "       [-3.4605  ,  2.6901  ,  0.16165 , -1.0224  ],\n",
       "       [-3.3582  , -7.2404  , 11.4419  , -0.57113 ]])"
      ]
     },
     "execution_count": 14,
     "metadata": {},
     "output_type": "execute_result"
    }
   ],
   "source": [
    "x_train"
   ]
  },
  {
   "cell_type": "code",
   "execution_count": 15,
   "id": "7da44f30",
   "metadata": {},
   "outputs": [
    {
     "data": {
      "text/plain": [
       "array([[ 1.5691  ,  6.3465  , -0.1828  , -2.4099  ],\n",
       "       [-0.27802 ,  8.1881  , -3.1338  , -2.5276  ],\n",
       "       [ 0.051979,  7.0521  , -2.0541  , -3.1508  ],\n",
       "       ...,\n",
       "       [ 3.4626  , -4.449   ,  3.5427  ,  0.15429 ],\n",
       "       [-0.278   ,  8.1881  , -3.1338  , -2.5276  ],\n",
       "       [ 2.7831  , 10.9796  , -3.557   , -4.4039  ]])"
      ]
     },
     "execution_count": 15,
     "metadata": {},
     "output_type": "execute_result"
    }
   ],
   "source": [
    "x_test"
   ]
  },
  {
   "cell_type": "code",
   "execution_count": 16,
   "id": "d42b4619",
   "metadata": {},
   "outputs": [
    {
     "data": {
      "text/plain": [
       "array([0., 0., 0., 0., 0., 0., 0., 0., 0., 0., 1., 1., 0., 1., 0., 1., 1.,\n",
       "       1., 1., 1., 0., 0., 1., 0., 1., 0., 0., 1., 0., 0., 1., 0., 0., 1.,\n",
       "       1., 0., 1., 1., 1., 0., 0., 1., 1., 0., 1., 1., 1., 0., 0., 1., 0.,\n",
       "       0., 0., 0., 0., 1., 0., 0., 0., 0., 1., 0., 1., 0., 0., 0., 0., 0.,\n",
       "       0., 1., 1., 0., 1., 0., 1., 0., 0., 1., 1., 1., 1., 0., 1., 0., 0.,\n",
       "       0., 0., 1., 1., 0., 0., 0., 1., 1., 0., 1., 1., 0., 0., 0., 1., 0.,\n",
       "       0., 0., 1., 0., 0., 1., 1., 1., 1., 1., 0., 1., 1., 1., 0., 1., 1.,\n",
       "       0., 1., 0., 1., 0., 1., 0., 1., 1., 0., 1., 1., 0., 0., 0., 0., 0.,\n",
       "       1., 0., 0., 0., 0., 0., 1., 0., 1., 1., 1., 1., 1., 0., 1., 1., 1.,\n",
       "       0., 1., 0., 1., 0., 0., 0., 1., 1., 1., 1., 1., 0., 1., 0., 0., 0.,\n",
       "       0., 0., 0., 1., 0., 0., 1., 1., 0., 0., 0., 0., 1., 0., 1., 0., 1.,\n",
       "       1., 0., 0., 1., 0., 0., 1., 1., 1., 1., 0., 0., 1., 1., 1., 0., 0.,\n",
       "       1., 1., 1., 1., 0., 0., 0., 0., 0., 0., 0., 0., 0., 0., 1., 1., 1.,\n",
       "       1., 1., 0., 1., 0., 0., 1., 1., 1., 1., 0., 1., 0., 1., 1., 1., 1.,\n",
       "       0., 0., 0., 1., 0., 1., 1., 1., 0., 0., 0., 0., 0., 0., 1., 0., 1.,\n",
       "       0., 0., 0., 1., 1., 0., 0., 0., 1., 1., 0., 1., 0., 1., 1., 1., 1.,\n",
       "       0., 0., 0.])"
      ]
     },
     "execution_count": 16,
     "metadata": {},
     "output_type": "execute_result"
    }
   ],
   "source": [
    "y_test"
   ]
  },
  {
   "cell_type": "code",
   "execution_count": 17,
   "id": "a5ed0129",
   "metadata": {},
   "outputs": [
    {
     "data": {
      "text/plain": [
       "array([0., 0., 1., ..., 1., 1., 1.])"
      ]
     },
     "execution_count": 17,
     "metadata": {},
     "output_type": "execute_result"
    }
   ],
   "source": [
    "y_train"
   ]
  },
  {
   "cell_type": "markdown",
   "id": "2ee03028",
   "metadata": {},
   "source": [
    "***Standardizing the Data***"
   ]
  },
  {
   "cell_type": "code",
   "execution_count": 18,
   "id": "ec61219f",
   "metadata": {},
   "outputs": [],
   "source": [
    "from sklearn.preprocessing import MinMaxScaler"
   ]
  },
  {
   "cell_type": "code",
   "execution_count": 19,
   "id": "5c7ece0b",
   "metadata": {},
   "outputs": [],
   "source": [
    "scaler_object=MinMaxScaler()"
   ]
  },
  {
   "cell_type": "code",
   "execution_count": 20,
   "id": "651552ba",
   "metadata": {},
   "outputs": [
    {
     "data": {
      "text/html": [
       "<style>#sk-container-id-1 {color: black;}#sk-container-id-1 pre{padding: 0;}#sk-container-id-1 div.sk-toggleable {background-color: white;}#sk-container-id-1 label.sk-toggleable__label {cursor: pointer;display: block;width: 100%;margin-bottom: 0;padding: 0.3em;box-sizing: border-box;text-align: center;}#sk-container-id-1 label.sk-toggleable__label-arrow:before {content: \"▸\";float: left;margin-right: 0.25em;color: #696969;}#sk-container-id-1 label.sk-toggleable__label-arrow:hover:before {color: black;}#sk-container-id-1 div.sk-estimator:hover label.sk-toggleable__label-arrow:before {color: black;}#sk-container-id-1 div.sk-toggleable__content {max-height: 0;max-width: 0;overflow: hidden;text-align: left;background-color: #f0f8ff;}#sk-container-id-1 div.sk-toggleable__content pre {margin: 0.2em;color: black;border-radius: 0.25em;background-color: #f0f8ff;}#sk-container-id-1 input.sk-toggleable__control:checked~div.sk-toggleable__content {max-height: 200px;max-width: 100%;overflow: auto;}#sk-container-id-1 input.sk-toggleable__control:checked~label.sk-toggleable__label-arrow:before {content: \"▾\";}#sk-container-id-1 div.sk-estimator input.sk-toggleable__control:checked~label.sk-toggleable__label {background-color: #d4ebff;}#sk-container-id-1 div.sk-label input.sk-toggleable__control:checked~label.sk-toggleable__label {background-color: #d4ebff;}#sk-container-id-1 input.sk-hidden--visually {border: 0;clip: rect(1px 1px 1px 1px);clip: rect(1px, 1px, 1px, 1px);height: 1px;margin: -1px;overflow: hidden;padding: 0;position: absolute;width: 1px;}#sk-container-id-1 div.sk-estimator {font-family: monospace;background-color: #f0f8ff;border: 1px dotted black;border-radius: 0.25em;box-sizing: border-box;margin-bottom: 0.5em;}#sk-container-id-1 div.sk-estimator:hover {background-color: #d4ebff;}#sk-container-id-1 div.sk-parallel-item::after {content: \"\";width: 100%;border-bottom: 1px solid gray;flex-grow: 1;}#sk-container-id-1 div.sk-label:hover label.sk-toggleable__label {background-color: #d4ebff;}#sk-container-id-1 div.sk-serial::before {content: \"\";position: absolute;border-left: 1px solid gray;box-sizing: border-box;top: 0;bottom: 0;left: 50%;z-index: 0;}#sk-container-id-1 div.sk-serial {display: flex;flex-direction: column;align-items: center;background-color: white;padding-right: 0.2em;padding-left: 0.2em;position: relative;}#sk-container-id-1 div.sk-item {position: relative;z-index: 1;}#sk-container-id-1 div.sk-parallel {display: flex;align-items: stretch;justify-content: center;background-color: white;position: relative;}#sk-container-id-1 div.sk-item::before, #sk-container-id-1 div.sk-parallel-item::before {content: \"\";position: absolute;border-left: 1px solid gray;box-sizing: border-box;top: 0;bottom: 0;left: 50%;z-index: -1;}#sk-container-id-1 div.sk-parallel-item {display: flex;flex-direction: column;z-index: 1;position: relative;background-color: white;}#sk-container-id-1 div.sk-parallel-item:first-child::after {align-self: flex-end;width: 50%;}#sk-container-id-1 div.sk-parallel-item:last-child::after {align-self: flex-start;width: 50%;}#sk-container-id-1 div.sk-parallel-item:only-child::after {width: 0;}#sk-container-id-1 div.sk-dashed-wrapped {border: 1px dashed gray;margin: 0 0.4em 0.5em 0.4em;box-sizing: border-box;padding-bottom: 0.4em;background-color: white;}#sk-container-id-1 div.sk-label label {font-family: monospace;font-weight: bold;display: inline-block;line-height: 1.2em;}#sk-container-id-1 div.sk-label-container {text-align: center;}#sk-container-id-1 div.sk-container {/* jupyter's `normalize.less` sets `[hidden] { display: none; }` but bootstrap.min.css set `[hidden] { display: none !important; }` so we also need the `!important` here to be able to override the default hidden behavior on the sphinx rendered scikit-learn.org. See: https://github.com/scikit-learn/scikit-learn/issues/21755 */display: inline-block !important;position: relative;}#sk-container-id-1 div.sk-text-repr-fallback {display: none;}</style><div id=\"sk-container-id-1\" class=\"sk-top-container\"><div class=\"sk-text-repr-fallback\"><pre>MinMaxScaler()</pre><b>In a Jupyter environment, please rerun this cell to show the HTML representation or trust the notebook. <br />On GitHub, the HTML representation is unable to render, please try loading this page with nbviewer.org.</b></div><div class=\"sk-container\" hidden><div class=\"sk-item\"><div class=\"sk-estimator sk-toggleable\"><input class=\"sk-toggleable__control sk-hidden--visually\" id=\"sk-estimator-id-1\" type=\"checkbox\" checked><label for=\"sk-estimator-id-1\" class=\"sk-toggleable__label sk-toggleable__label-arrow\">MinMaxScaler</label><div class=\"sk-toggleable__content\"><pre>MinMaxScaler()</pre></div></div></div></div></div>"
      ],
      "text/plain": [
       "MinMaxScaler()"
      ]
     },
     "execution_count": 20,
     "metadata": {},
     "output_type": "execute_result"
    }
   ],
   "source": [
    "scaler_object.fit(x_train)"
   ]
  },
  {
   "cell_type": "code",
   "execution_count": 21,
   "id": "067b89ca",
   "metadata": {},
   "outputs": [],
   "source": [
    "scaled_x_train=scaler_object.transform(x_train)"
   ]
  },
  {
   "cell_type": "code",
   "execution_count": 22,
   "id": "6edbdccb",
   "metadata": {},
   "outputs": [],
   "source": [
    "scaled_x_test=scaler_object.transform(x_test)"
   ]
  },
  {
   "cell_type": "code",
   "execution_count": 23,
   "id": "52e2ea12",
   "metadata": {},
   "outputs": [
    {
     "data": {
      "text/plain": [
       "17.9274"
      ]
     },
     "execution_count": 23,
     "metadata": {},
     "output_type": "execute_result"
    }
   ],
   "source": [
    "x_train.max()"
   ]
  },
  {
   "cell_type": "code",
   "execution_count": 24,
   "id": "9e1d61f1",
   "metadata": {},
   "outputs": [
    {
     "data": {
      "text/plain": [
       "1.0000000000000002"
      ]
     },
     "execution_count": 24,
     "metadata": {},
     "output_type": "execute_result"
    }
   ],
   "source": [
    "scaled_x_train.max()"
   ]
  },
  {
   "cell_type": "code",
   "execution_count": 25,
   "id": "bfd9d973",
   "metadata": {},
   "outputs": [
    {
     "data": {
      "text/plain": [
       "array([[4.07704678e-01, 9.83199063e-01, 2.56697443e-01, 9.33178971e-02],\n",
       "       [7.07908761e-01, 7.71971248e-01, 1.80872580e-01, 8.05140280e-01],\n",
       "       [1.98559159e-01, 2.21136252e-01, 7.37428144e-01, 6.20911798e-01],\n",
       "       ...,\n",
       "       [4.11050776e-04, 8.63104170e-01, 2.34046756e-01, 3.74261253e-01],\n",
       "       [2.58284115e-01, 6.16029366e-01, 2.33861752e-01, 7.02643151e-01],\n",
       "       [2.65661395e-01, 2.44444278e-01, 7.20316361e-01, 7.44775785e-01]])"
      ]
     },
     "execution_count": 25,
     "metadata": {},
     "output_type": "execute_result"
    }
   ],
   "source": [
    "scaled_x_train"
   ]
  },
  {
   "cell_type": "code",
   "execution_count": 26,
   "id": "2bbbcd36",
   "metadata": {},
   "outputs": [
    {
     "data": {
      "text/plain": [
       "array([[-1.3885  , 12.5026  ,  0.69118 , -7.5487  ],\n",
       "       [ 2.7744  ,  6.8576  , -1.0671  ,  0.075416],\n",
       "       [-4.2887  , -7.8633  , 11.8387  , -1.8978  ],\n",
       "       ...,\n",
       "       [-7.0364  ,  9.2931  ,  0.16594 , -4.5396  ],\n",
       "       [-3.4605  ,  2.6901  ,  0.16165 , -1.0224  ],\n",
       "       [-3.3582  , -7.2404  , 11.4419  , -0.57113 ]])"
      ]
     },
     "execution_count": 26,
     "metadata": {},
     "output_type": "execute_result"
    }
   ],
   "source": [
    "x_train"
   ]
  },
  {
   "cell_type": "markdown",
   "id": "76793bbf",
   "metadata": {},
   "source": [
    "***Building the model***"
   ]
  },
  {
   "cell_type": "code",
   "execution_count": 28,
   "id": "3967f573",
   "metadata": {},
   "outputs": [
    {
     "name": "stdout",
     "output_type": "stream",
     "text": [
      "WARNING:tensorflow:From C:\\Users\\user\\anaconda\\Lib\\site-packages\\keras\\src\\losses.py:2976: The name tf.losses.sparse_softmax_cross_entropy is deprecated. Please use tf.compat.v1.losses.sparse_softmax_cross_entropy instead.\n",
      "\n"
     ]
    }
   ],
   "source": [
    "from keras.models import Sequential\n",
    "from keras.layers import Dense"
   ]
  },
  {
   "cell_type": "code",
   "execution_count": 29,
   "id": "f6b9bd22",
   "metadata": {},
   "outputs": [
    {
     "name": "stdout",
     "output_type": "stream",
     "text": [
      "WARNING:tensorflow:From C:\\Users\\user\\anaconda\\Lib\\site-packages\\keras\\src\\backend.py:873: The name tf.get_default_graph is deprecated. Please use tf.compat.v1.get_default_graph instead.\n",
      "\n"
     ]
    }
   ],
   "source": [
    "model = Sequential()\n",
    "\n",
    "\n",
    "model.add(Dense(4, input_dim=4, activation='leaky_relu'))\n",
    "\n",
    "model.add(Dense(8, activation='leaky_relu'))\n",
    "\n",
    "model.add(Dense(1, activation='sigmoid'))"
   ]
  },
  {
   "cell_type": "markdown",
   "id": "9f749108",
   "metadata": {},
   "source": [
    "***Compiling Model***"
   ]
  },
  {
   "cell_type": "code",
   "execution_count": 59,
   "id": "2b5cbf21",
   "metadata": {},
   "outputs": [],
   "source": [
    "model.compile(loss='KLDivergence', optimizer='SGD', metrics=['accuracy'])"
   ]
  },
  {
   "cell_type": "code",
   "execution_count": 61,
   "id": "964b5bd5",
   "metadata": {
    "scrolled": false
   },
   "outputs": [
    {
     "name": "stdout",
     "output_type": "stream",
     "text": [
      "Epoch 1/10\n",
      "35/35 - 0s - loss: 7.7024e-05 - accuracy: 0.8022 - 68ms/epoch - 2ms/step\n",
      "Epoch 2/10\n",
      "35/35 - 0s - loss: 7.5690e-05 - accuracy: 0.7995 - 78ms/epoch - 2ms/step\n",
      "Epoch 3/10\n",
      "35/35 - 0s - loss: 7.4400e-05 - accuracy: 0.7976 - 78ms/epoch - 2ms/step\n",
      "Epoch 4/10\n",
      "35/35 - 0s - loss: 7.3156e-05 - accuracy: 0.7967 - 78ms/epoch - 2ms/step\n",
      "Epoch 5/10\n",
      "35/35 - 0s - loss: 7.1955e-05 - accuracy: 0.7958 - 69ms/epoch - 2ms/step\n",
      "Epoch 6/10\n",
      "35/35 - 0s - loss: 7.0659e-05 - accuracy: 0.7931 - 77ms/epoch - 2ms/step\n",
      "Epoch 7/10\n",
      "35/35 - 0s - loss: 6.9533e-05 - accuracy: 0.7912 - 65ms/epoch - 2ms/step\n",
      "Epoch 8/10\n",
      "35/35 - 0s - loss: 6.8299e-05 - accuracy: 0.7912 - 71ms/epoch - 2ms/step\n",
      "Epoch 9/10\n",
      "35/35 - 0s - loss: 6.7199e-05 - accuracy: 0.7876 - 76ms/epoch - 2ms/step\n",
      "Epoch 10/10\n",
      "35/35 - 0s - loss: 6.6102e-05 - accuracy: 0.7867 - 76ms/epoch - 2ms/step\n"
     ]
    },
    {
     "data": {
      "text/plain": [
       "<keras.src.callbacks.History at 0x1ffcb00c810>"
      ]
     },
     "execution_count": 61,
     "metadata": {},
     "output_type": "execute_result"
    }
   ],
   "source": [
    "model.fit(scaled_x_train, y_train, epochs=10, verbose=2)"
   ]
  },
  {
   "cell_type": "code",
   "execution_count": 62,
   "id": "95d4a427",
   "metadata": {},
   "outputs": [
    {
     "data": {
      "text/plain": [
       "array([[0.62098955, 0.75284662, 0.21900753, 0.5730998 ],\n",
       "       [0.48778602, 0.82175665, 0.09174727, 0.56211079],\n",
       "       [0.51158363, 0.77924916, 0.13830875, 0.50392598],\n",
       "       ...,\n",
       "       [0.75753773, 0.34889447, 0.37966768, 0.81250432],\n",
       "       [0.48778747, 0.82175665, 0.09174727, 0.56211079],\n",
       "       [0.70853615, 0.92621058, 0.07349701, 0.38693083]])"
      ]
     },
     "execution_count": 62,
     "metadata": {},
     "output_type": "execute_result"
    }
   ],
   "source": [
    "scaled_x_test"
   ]
  },
  {
   "cell_type": "code",
   "execution_count": 63,
   "id": "5a64b6d7",
   "metadata": {
    "scrolled": true
   },
   "outputs": [
    {
     "name": "stdout",
     "output_type": "stream",
     "text": [
      "9/9 [==============================] - 0s 2ms/step\n"
     ]
    },
    {
     "data": {
      "text/plain": [
       "array([[0.33972803],\n",
       "       [0.998918  ],\n",
       "       [0.98725677],\n",
       "       [0.00651975],\n",
       "       [0.925284  ],\n",
       "       [0.3333779 ],\n",
       "       [0.52754414],\n",
       "       [0.67350465],\n",
       "       [0.5013062 ],\n",
       "       [0.17560676],\n",
       "       [0.9999568 ],\n",
       "       [0.9999969 ],\n",
       "       [0.18424618],\n",
       "       [0.9996579 ],\n",
       "       [0.8460895 ],\n",
       "       [0.99990517],\n",
       "       [0.999952  ],\n",
       "       [0.9999642 ],\n",
       "       [0.9999757 ],\n",
       "       [0.9990169 ],\n",
       "       [0.6911363 ],\n",
       "       [0.07530719],\n",
       "       [0.99980265],\n",
       "       [0.8182582 ],\n",
       "       [0.9999991 ],\n",
       "       [0.75868714],\n",
       "       [0.04028941],\n",
       "       [0.99980026],\n",
       "       [0.02745244],\n",
       "       [0.15627457],\n",
       "       [0.9999887 ],\n",
       "       [0.16165365],\n",
       "       [0.43990174],\n",
       "       [0.99998194],\n",
       "       [0.99999446],\n",
       "       [0.33200112],\n",
       "       [0.99994737],\n",
       "       [0.99999255],\n",
       "       [0.9999969 ],\n",
       "       [0.11394259],\n",
       "       [0.015758  ],\n",
       "       [0.99997663],\n",
       "       [0.99998695],\n",
       "       [0.7691769 ],\n",
       "       [0.9999995 ],\n",
       "       [0.9999095 ],\n",
       "       [0.9999973 ],\n",
       "       [0.39008623],\n",
       "       [0.09994654],\n",
       "       [0.9999257 ],\n",
       "       [0.6355103 ],\n",
       "       [0.5846387 ],\n",
       "       [0.12609203],\n",
       "       [0.5507174 ],\n",
       "       [0.8328031 ],\n",
       "       [0.9999865 ],\n",
       "       [0.02491662],\n",
       "       [0.32090828],\n",
       "       [0.30610907],\n",
       "       [0.4053164 ],\n",
       "       [0.99997115],\n",
       "       [0.16777211],\n",
       "       [0.99972135],\n",
       "       [0.01352218],\n",
       "       [0.01305434],\n",
       "       [0.41438055],\n",
       "       [0.22043516],\n",
       "       [0.73446524],\n",
       "       [0.9173106 ],\n",
       "       [0.99971646],\n",
       "       [0.9996134 ],\n",
       "       [0.7141942 ],\n",
       "       [0.9997671 ],\n",
       "       [0.27776048],\n",
       "       [0.9999689 ],\n",
       "       [0.9939949 ],\n",
       "       [0.5911152 ],\n",
       "       [0.9999973 ],\n",
       "       [0.9999779 ],\n",
       "       [0.99990875],\n",
       "       [0.99976826],\n",
       "       [0.9779998 ],\n",
       "       [0.99993443],\n",
       "       [0.22212961],\n",
       "       [0.72914416],\n",
       "       [0.06424838],\n",
       "       [0.66428226],\n",
       "       [0.99999934],\n",
       "       [0.9992802 ],\n",
       "       [0.49858722],\n",
       "       [0.8349204 ],\n",
       "       [0.10286058],\n",
       "       [0.9998997 ],\n",
       "       [0.99999654],\n",
       "       [0.16965073],\n",
       "       [0.99996614],\n",
       "       [0.9999991 ],\n",
       "       [0.9596163 ],\n",
       "       [0.6961649 ],\n",
       "       [0.9670365 ],\n",
       "       [0.99998325],\n",
       "       [0.34685206],\n",
       "       [0.6027518 ],\n",
       "       [0.60774827],\n",
       "       [0.9999882 ],\n",
       "       [0.54745954],\n",
       "       [0.48860332],\n",
       "       [0.9998966 ],\n",
       "       [0.9999874 ],\n",
       "       [0.9998415 ],\n",
       "       [0.99997747],\n",
       "       [0.99998546],\n",
       "       [0.0157438 ],\n",
       "       [0.99999523],\n",
       "       [0.9999354 ],\n",
       "       [0.99999595],\n",
       "       [0.16750233],\n",
       "       [0.99999297],\n",
       "       [0.99999416],\n",
       "       [0.580281  ],\n",
       "       [0.9997685 ],\n",
       "       [0.33515188],\n",
       "       [0.99996185],\n",
       "       [0.07853296],\n",
       "       [0.99916404],\n",
       "       [0.29512206],\n",
       "       [0.9999684 ],\n",
       "       [0.9998408 ],\n",
       "       [0.47488883],\n",
       "       [0.9999914 ],\n",
       "       [0.9999573 ],\n",
       "       [0.01026933],\n",
       "       [0.09414954],\n",
       "       [0.49509525],\n",
       "       [0.13111089],\n",
       "       [0.49147412],\n",
       "       [0.99995494],\n",
       "       [0.0471267 ],\n",
       "       [0.91158915],\n",
       "       [0.99956113],\n",
       "       [0.94813687],\n",
       "       [0.51610273],\n",
       "       [0.9961584 ],\n",
       "       [0.03081698],\n",
       "       [0.9999799 ],\n",
       "       [0.9997145 ],\n",
       "       [0.9997795 ],\n",
       "       [0.9999359 ],\n",
       "       [0.9999656 ],\n",
       "       [0.8315655 ],\n",
       "       [0.99995303],\n",
       "       [0.9999892 ],\n",
       "       [0.99999076],\n",
       "       [0.04906371],\n",
       "       [0.9999838 ],\n",
       "       [0.1142295 ],\n",
       "       [0.9999949 ],\n",
       "       [0.51373315],\n",
       "       [0.63413614],\n",
       "       [0.11009312],\n",
       "       [0.99999976],\n",
       "       [0.9999792 ],\n",
       "       [0.99999964],\n",
       "       [0.9999968 ],\n",
       "       [0.99998844],\n",
       "       [0.54222745],\n",
       "       [0.9999821 ],\n",
       "       [0.05048676],\n",
       "       [0.26248285],\n",
       "       [0.12459977],\n",
       "       [0.97871894],\n",
       "       [0.14792287],\n",
       "       [0.6878131 ],\n",
       "       [0.9999982 ],\n",
       "       [0.01891225],\n",
       "       [0.03495149],\n",
       "       [0.9999954 ],\n",
       "       [0.9999998 ],\n",
       "       [0.79505956],\n",
       "       [0.47320226],\n",
       "       [0.9463112 ],\n",
       "       [0.01294265],\n",
       "       [0.9999933 ],\n",
       "       [0.2653484 ],\n",
       "       [0.9999603 ],\n",
       "       [0.5937786 ],\n",
       "       [0.9999601 ],\n",
       "       [0.99999595],\n",
       "       [0.16812968],\n",
       "       [0.70449185],\n",
       "       [0.99995875],\n",
       "       [0.20734216],\n",
       "       [0.9402122 ],\n",
       "       [0.9998224 ],\n",
       "       [0.99997234],\n",
       "       [0.99999183],\n",
       "       [0.99998695],\n",
       "       [0.64693505],\n",
       "       [0.84676355],\n",
       "       [0.99997944],\n",
       "       [0.9999953 ],\n",
       "       [0.9999896 ],\n",
       "       [0.6380675 ],\n",
       "       [0.01294518],\n",
       "       [0.9999989 ],\n",
       "       [0.999765  ],\n",
       "       [0.9995226 ],\n",
       "       [0.99997026],\n",
       "       [0.62544286],\n",
       "       [0.7341486 ],\n",
       "       [0.99583006],\n",
       "       [0.10107961],\n",
       "       [0.12050112],\n",
       "       [0.9520082 ],\n",
       "       [0.38475102],\n",
       "       [0.40746856],\n",
       "       [0.9939949 ],\n",
       "       [0.28574142],\n",
       "       [0.99997354],\n",
       "       [0.99992627],\n",
       "       [0.9999075 ],\n",
       "       [0.99888104],\n",
       "       [0.9999947 ],\n",
       "       [0.069784  ],\n",
       "       [0.99996233],\n",
       "       [0.09093025],\n",
       "       [0.03038335],\n",
       "       [0.99997884],\n",
       "       [0.99998146],\n",
       "       [0.99711967],\n",
       "       [0.9999813 ],\n",
       "       [0.08018866],\n",
       "       [0.9998522 ],\n",
       "       [0.28751573],\n",
       "       [0.9996638 ],\n",
       "       [0.99998915],\n",
       "       [0.999983  ],\n",
       "       [0.9999969 ],\n",
       "       [0.8074452 ],\n",
       "       [0.31655407],\n",
       "       [0.9754274 ],\n",
       "       [0.9998998 ],\n",
       "       [0.46115425],\n",
       "       [0.99999404],\n",
       "       [0.99994594],\n",
       "       [0.9999931 ],\n",
       "       [0.03795022],\n",
       "       [0.9091766 ],\n",
       "       [0.4805267 ],\n",
       "       [0.12404452],\n",
       "       [0.1526591 ],\n",
       "       [0.6276759 ],\n",
       "       [0.9999712 ],\n",
       "       [0.97393835],\n",
       "       [0.99952936],\n",
       "       [0.5183627 ],\n",
       "       [0.79718333],\n",
       "       [0.01361804],\n",
       "       [0.9992601 ],\n",
       "       [0.99994224],\n",
       "       [0.0648622 ],\n",
       "       [0.9246316 ],\n",
       "       [0.66295725],\n",
       "       [0.99996537],\n",
       "       [0.9999327 ],\n",
       "       [0.8103286 ],\n",
       "       [0.9999941 ],\n",
       "       [0.5838711 ],\n",
       "       [0.9999983 ],\n",
       "       [0.9998631 ],\n",
       "       [0.99994326],\n",
       "       [0.99996793],\n",
       "       [0.6351518 ],\n",
       "       [0.99891794],\n",
       "       [0.18271507]], dtype=float32)"
      ]
     },
     "execution_count": 63,
     "metadata": {},
     "output_type": "execute_result"
    }
   ],
   "source": [
    "model.predict(scaled_x_test)"
   ]
  },
  {
   "cell_type": "markdown",
   "id": "5f909441",
   "metadata": {},
   "source": [
    "***Evaluation Model***"
   ]
  },
  {
   "cell_type": "code",
   "execution_count": 64,
   "id": "dfbc4ecb",
   "metadata": {},
   "outputs": [
    {
     "data": {
      "text/plain": [
       "['loss', 'accuracy']"
      ]
     },
     "execution_count": 64,
     "metadata": {},
     "output_type": "execute_result"
    }
   ],
   "source": [
    "model.metrics_names"
   ]
  },
  {
   "cell_type": "code",
   "execution_count": 65,
   "id": "8818bf0f",
   "metadata": {},
   "outputs": [
    {
     "name": "stdout",
     "output_type": "stream",
     "text": [
      "9/9 [==============================] - 0s 3ms/step - loss: 6.8287e-05 - accuracy: 0.7564\n"
     ]
    },
    {
     "data": {
      "text/plain": [
       "[6.82867321302183e-05, 0.7563636302947998]"
      ]
     },
     "execution_count": 65,
     "metadata": {},
     "output_type": "execute_result"
    }
   ],
   "source": [
    "model.evaluate(x=scaled_x_test, y=y_test)"
   ]
  },
  {
   "cell_type": "code",
   "execution_count": 66,
   "id": "f504c079",
   "metadata": {},
   "outputs": [],
   "source": [
    "from sklearn.metrics import confusion_matrix, classification_report"
   ]
  },
  {
   "cell_type": "code",
   "execution_count": 67,
   "id": "5f9a5bb1",
   "metadata": {},
   "outputs": [
    {
     "name": "stdout",
     "output_type": "stream",
     "text": [
      "9/9 [==============================] - 0s 1ms/step\n"
     ]
    }
   ],
   "source": [
    "predict_x = model.predict(scaled_x_test)\n",
    "classes_x = np.argmax(predict_x, axis=1)"
   ]
  },
  {
   "cell_type": "code",
   "execution_count": 68,
   "id": "3a8b61ea",
   "metadata": {},
   "outputs": [
    {
     "data": {
      "text/plain": [
       "array([0, 0, 0, 0, 0, 0, 0, 0, 0, 0, 0, 0, 0, 0, 0, 0, 0, 0, 0, 0, 0, 0,\n",
       "       0, 0, 0, 0, 0, 0, 0, 0, 0, 0, 0, 0, 0, 0, 0, 0, 0, 0, 0, 0, 0, 0,\n",
       "       0, 0, 0, 0, 0, 0, 0, 0, 0, 0, 0, 0, 0, 0, 0, 0, 0, 0, 0, 0, 0, 0,\n",
       "       0, 0, 0, 0, 0, 0, 0, 0, 0, 0, 0, 0, 0, 0, 0, 0, 0, 0, 0, 0, 0, 0,\n",
       "       0, 0, 0, 0, 0, 0, 0, 0, 0, 0, 0, 0, 0, 0, 0, 0, 0, 0, 0, 0, 0, 0,\n",
       "       0, 0, 0, 0, 0, 0, 0, 0, 0, 0, 0, 0, 0, 0, 0, 0, 0, 0, 0, 0, 0, 0,\n",
       "       0, 0, 0, 0, 0, 0, 0, 0, 0, 0, 0, 0, 0, 0, 0, 0, 0, 0, 0, 0, 0, 0,\n",
       "       0, 0, 0, 0, 0, 0, 0, 0, 0, 0, 0, 0, 0, 0, 0, 0, 0, 0, 0, 0, 0, 0,\n",
       "       0, 0, 0, 0, 0, 0, 0, 0, 0, 0, 0, 0, 0, 0, 0, 0, 0, 0, 0, 0, 0, 0,\n",
       "       0, 0, 0, 0, 0, 0, 0, 0, 0, 0, 0, 0, 0, 0, 0, 0, 0, 0, 0, 0, 0, 0,\n",
       "       0, 0, 0, 0, 0, 0, 0, 0, 0, 0, 0, 0, 0, 0, 0, 0, 0, 0, 0, 0, 0, 0,\n",
       "       0, 0, 0, 0, 0, 0, 0, 0, 0, 0, 0, 0, 0, 0, 0, 0, 0, 0, 0, 0, 0, 0,\n",
       "       0, 0, 0, 0, 0, 0, 0, 0, 0, 0, 0], dtype=int64)"
      ]
     },
     "execution_count": 68,
     "metadata": {},
     "output_type": "execute_result"
    }
   ],
   "source": [
    "classes_x"
   ]
  },
  {
   "cell_type": "code",
   "execution_count": 69,
   "id": "2ab67bc2",
   "metadata": {},
   "outputs": [
    {
     "data": {
      "text/plain": [
       "array([[148,   0],\n",
       "       [127,   0]], dtype=int64)"
      ]
     },
     "execution_count": 69,
     "metadata": {},
     "output_type": "execute_result"
    }
   ],
   "source": [
    "confusion_matrix(y_test, classes_x)"
   ]
  },
  {
   "cell_type": "code",
   "execution_count": 70,
   "id": "88d67a31",
   "metadata": {},
   "outputs": [
    {
     "name": "stdout",
     "output_type": "stream",
     "text": [
      "9/9 [==============================] - 0s 2ms/step\n"
     ]
    }
   ],
   "source": [
    "predictions = (model.predict(scaled_x_test) > 0.5).astype(\"int32\") "
   ]
  },
  {
   "cell_type": "code",
   "execution_count": 49,
   "id": "f082bbc7",
   "metadata": {},
   "outputs": [
    {
     "data": {
      "text/plain": [
       "array([[0],\n",
       "       [1],\n",
       "       [0],\n",
       "       [0],\n",
       "       [0],\n",
       "       [0],\n",
       "       [0],\n",
       "       [0],\n",
       "       [0],\n",
       "       [0],\n",
       "       [1],\n",
       "       [1],\n",
       "       [0],\n",
       "       [1],\n",
       "       [0],\n",
       "       [1],\n",
       "       [1],\n",
       "       [1],\n",
       "       [1],\n",
       "       [1],\n",
       "       [0],\n",
       "       [0],\n",
       "       [1],\n",
       "       [0],\n",
       "       [1],\n",
       "       [0],\n",
       "       [0],\n",
       "       [1],\n",
       "       [0],\n",
       "       [0],\n",
       "       [1],\n",
       "       [0],\n",
       "       [0],\n",
       "       [1],\n",
       "       [1],\n",
       "       [0],\n",
       "       [1],\n",
       "       [1],\n",
       "       [1],\n",
       "       [0],\n",
       "       [0],\n",
       "       [1],\n",
       "       [1],\n",
       "       [0],\n",
       "       [1],\n",
       "       [1],\n",
       "       [1],\n",
       "       [0],\n",
       "       [0],\n",
       "       [1],\n",
       "       [0],\n",
       "       [0],\n",
       "       [0],\n",
       "       [0],\n",
       "       [0],\n",
       "       [1],\n",
       "       [0],\n",
       "       [0],\n",
       "       [0],\n",
       "       [0],\n",
       "       [1],\n",
       "       [0],\n",
       "       [1],\n",
       "       [0],\n",
       "       [0],\n",
       "       [0],\n",
       "       [0],\n",
       "       [0],\n",
       "       [0],\n",
       "       [1],\n",
       "       [1],\n",
       "       [0],\n",
       "       [1],\n",
       "       [0],\n",
       "       [1],\n",
       "       [0],\n",
       "       [0],\n",
       "       [1],\n",
       "       [1],\n",
       "       [1],\n",
       "       [1],\n",
       "       [0],\n",
       "       [1],\n",
       "       [0],\n",
       "       [0],\n",
       "       [0],\n",
       "       [0],\n",
       "       [1],\n",
       "       [1],\n",
       "       [0],\n",
       "       [0],\n",
       "       [0],\n",
       "       [1],\n",
       "       [1],\n",
       "       [0],\n",
       "       [1],\n",
       "       [1],\n",
       "       [0],\n",
       "       [0],\n",
       "       [0],\n",
       "       [1],\n",
       "       [0],\n",
       "       [0],\n",
       "       [0],\n",
       "       [1],\n",
       "       [0],\n",
       "       [0],\n",
       "       [1],\n",
       "       [1],\n",
       "       [1],\n",
       "       [1],\n",
       "       [1],\n",
       "       [0],\n",
       "       [1],\n",
       "       [1],\n",
       "       [1],\n",
       "       [0],\n",
       "       [1],\n",
       "       [1],\n",
       "       [0],\n",
       "       [1],\n",
       "       [0],\n",
       "       [1],\n",
       "       [0],\n",
       "       [1],\n",
       "       [0],\n",
       "       [1],\n",
       "       [1],\n",
       "       [0],\n",
       "       [1],\n",
       "       [1],\n",
       "       [0],\n",
       "       [0],\n",
       "       [0],\n",
       "       [0],\n",
       "       [0],\n",
       "       [1],\n",
       "       [0],\n",
       "       [0],\n",
       "       [1],\n",
       "       [0],\n",
       "       [0],\n",
       "       [1],\n",
       "       [0],\n",
       "       [1],\n",
       "       [1],\n",
       "       [1],\n",
       "       [1],\n",
       "       [1],\n",
       "       [0],\n",
       "       [1],\n",
       "       [1],\n",
       "       [1],\n",
       "       [0],\n",
       "       [1],\n",
       "       [0],\n",
       "       [1],\n",
       "       [0],\n",
       "       [0],\n",
       "       [0],\n",
       "       [1],\n",
       "       [1],\n",
       "       [1],\n",
       "       [1],\n",
       "       [1],\n",
       "       [0],\n",
       "       [1],\n",
       "       [0],\n",
       "       [0],\n",
       "       [0],\n",
       "       [0],\n",
       "       [0],\n",
       "       [0],\n",
       "       [1],\n",
       "       [0],\n",
       "       [0],\n",
       "       [1],\n",
       "       [1],\n",
       "       [0],\n",
       "       [0],\n",
       "       [0],\n",
       "       [0],\n",
       "       [1],\n",
       "       [0],\n",
       "       [1],\n",
       "       [0],\n",
       "       [1],\n",
       "       [1],\n",
       "       [0],\n",
       "       [0],\n",
       "       [1],\n",
       "       [0],\n",
       "       [0],\n",
       "       [1],\n",
       "       [1],\n",
       "       [1],\n",
       "       [1],\n",
       "       [0],\n",
       "       [0],\n",
       "       [1],\n",
       "       [1],\n",
       "       [1],\n",
       "       [0],\n",
       "       [0],\n",
       "       [1],\n",
       "       [1],\n",
       "       [1],\n",
       "       [1],\n",
       "       [0],\n",
       "       [0],\n",
       "       [0],\n",
       "       [0],\n",
       "       [0],\n",
       "       [0],\n",
       "       [0],\n",
       "       [0],\n",
       "       [0],\n",
       "       [0],\n",
       "       [1],\n",
       "       [1],\n",
       "       [1],\n",
       "       [1],\n",
       "       [1],\n",
       "       [0],\n",
       "       [1],\n",
       "       [0],\n",
       "       [0],\n",
       "       [1],\n",
       "       [1],\n",
       "       [1],\n",
       "       [1],\n",
       "       [0],\n",
       "       [1],\n",
       "       [0],\n",
       "       [1],\n",
       "       [1],\n",
       "       [1],\n",
       "       [1],\n",
       "       [0],\n",
       "       [0],\n",
       "       [0],\n",
       "       [1],\n",
       "       [0],\n",
       "       [1],\n",
       "       [1],\n",
       "       [1],\n",
       "       [0],\n",
       "       [0],\n",
       "       [0],\n",
       "       [0],\n",
       "       [0],\n",
       "       [0],\n",
       "       [1],\n",
       "       [0],\n",
       "       [1],\n",
       "       [0],\n",
       "       [0],\n",
       "       [0],\n",
       "       [1],\n",
       "       [1],\n",
       "       [0],\n",
       "       [0],\n",
       "       [0],\n",
       "       [1],\n",
       "       [1],\n",
       "       [0],\n",
       "       [1],\n",
       "       [0],\n",
       "       [1],\n",
       "       [1],\n",
       "       [1],\n",
       "       [1],\n",
       "       [0],\n",
       "       [1],\n",
       "       [0]])"
      ]
     },
     "execution_count": 49,
     "metadata": {},
     "output_type": "execute_result"
    }
   ],
   "source": [
    "predictions"
   ]
  },
  {
   "cell_type": "code",
   "execution_count": 71,
   "id": "381054d8",
   "metadata": {},
   "outputs": [
    {
     "data": {
      "text/plain": [
       "array([[ 81,  67],\n",
       "       [  0, 127]], dtype=int64)"
      ]
     },
     "execution_count": 71,
     "metadata": {},
     "output_type": "execute_result"
    }
   ],
   "source": [
    "confusion_matrix(y_test,predictions)"
   ]
  },
  {
   "cell_type": "code",
   "execution_count": 72,
   "id": "51e94def",
   "metadata": {},
   "outputs": [
    {
     "name": "stdout",
     "output_type": "stream",
     "text": [
      "              precision    recall  f1-score   support\n",
      "\n",
      "         0.0       1.00      0.55      0.71       148\n",
      "         1.0       0.65      1.00      0.79       127\n",
      "\n",
      "    accuracy                           0.76       275\n",
      "   macro avg       0.83      0.77      0.75       275\n",
      "weighted avg       0.84      0.76      0.75       275\n",
      "\n"
     ]
    }
   ],
   "source": [
    "print(classification_report(y_test, predictions))"
   ]
  }
 ],
 "metadata": {
  "kernelspec": {
   "display_name": "Python 3 (ipykernel)",
   "language": "python",
   "name": "python3"
  },
  "language_info": {
   "codemirror_mode": {
    "name": "ipython",
    "version": 3
   },
   "file_extension": ".py",
   "mimetype": "text/x-python",
   "name": "python",
   "nbconvert_exporter": "python",
   "pygments_lexer": "ipython3",
   "version": "3.11.5"
  }
 },
 "nbformat": 4,
 "nbformat_minor": 5
}
